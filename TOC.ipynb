{
 "cells": [
  {
   "cell_type": "markdown",
   "metadata": {},
   "source": [
    "# Table of Contents\n",
    "\n",
    "1. Survey data analysis\n",
    "- Table S1\n",
    "- Figure S3\n",
    "- Figure S6\n",
    "- Figure S7\n",
    "- Figure S14\n",
    "- Figure S15\n",
    "- Table S6\n",
    "- Table S7\n",
    "- Table S8\n",
    "- Table S9\n",
    "- Table S10\n",
    "- Table S11\n",
    "- Table S16\n",
    "\n",
    "2. Satellite data aggregation\n",
    "- Figure S2 panel a\n",
    "- Figure S8\n",
    "\n",
    "3. Machine learning with mobile phone data\n",
    "- Figure S10\n",
    "- Figure S11\n",
    "- Table S4\n",
    "- Table S12\n",
    "- Table S19\n",
    "\n",
    "4. Targeting\n",
    "- Figure 1\n",
    "- Figure 2\n",
    "- Table 1\n",
    "- Figure S2 panel b\n",
    "- Figure S12\n",
    "- Figure S13\n",
    "- Table S1 \n",
    "- Table S2\n",
    "- Table S3\n",
    "- Table S5\n",
    "- Table S13\n",
    "- Table S14\n",
    "- Table S15\n",
    "\n",
    "5. Fairness\n",
    "- Figure S3\n",
    "- Figure S4\n",
    "- Figure S5\n",
    "\n",
    "No replication code for:\n",
    "- Table 2 \n",
    "- Figure S9 \n",
    "- Table S17\n",
    "- Table S18"
   ]
  },
  {
   "cell_type": "code",
   "execution_count": null,
   "metadata": {},
   "outputs": [],
   "source": []
  }
 ],
 "metadata": {
  "kernelspec": {
   "display_name": "py3",
   "language": "python",
   "name": "py3"
  },
  "language_info": {
   "codemirror_mode": {
    "name": "ipython",
    "version": 3
   },
   "file_extension": ".py",
   "mimetype": "text/x-python",
   "name": "python",
   "nbconvert_exporter": "python",
   "pygments_lexer": "ipython3",
   "version": "3.7.7"
  }
 },
 "nbformat": 4,
 "nbformat_minor": 4
}
