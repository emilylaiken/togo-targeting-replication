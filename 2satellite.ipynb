{
 "cells": [
  {
   "cell_type": "markdown",
   "metadata": {},
   "source": [
    "# Notebook 2: Satellite Data Aggregation\n",
    "Replication code for:\n",
    "- Figure S2 Panel A\n",
    "- Figure S8"
   ]
  },
  {
   "cell_type": "code",
   "execution_count": null,
   "metadata": {},
   "outputs": [],
   "source": [
    "import numpy as np\n",
    "import pandas as pd\n",
    "import geopandas as gpd\n",
    "import matplotlib.pyplot as plt\n",
    "\n",
    "from matplotlib.colors import LinearSegmentedColormap, Normalize, LogNorm\n",
    "from matplotlib.cm import ScalarMappable\n",
    "from mpl_toolkits.axes_grid1.inset_locator import zoomed_inset_axes,mark_inset\n",
    "from mpl_toolkits.axes_grid1.inset_locator import inset_axes\n",
    "\n",
    "from scipy.spatial import cKDTree\n",
    "from shapely.geometry import Point"
   ]
  },
  {
   "cell_type": "code",
   "execution_count": null,
   "metadata": {},
   "outputs": [],
   "source": [
    "cantons = gpd.read_file('data/shapefiles/cantons.geojson')\n",
    "cantons['nation'] = 'TGO'\n",
    "print('Number of cantons: %i' % len(cantons))\n",
    "nation = cantons.dissolve(by='nation')"
   ]
  },
  {
   "cell_type": "code",
   "execution_count": null,
   "metadata": {},
   "outputs": [],
   "source": [
    "pop = pd.read_csv('data/satellite/pop.csv')\n",
    "pop = gpd.GeoDataFrame(pop, \n",
    "                       geometry=gpd.points_from_xy(pop['Lon'], pop['Lat']))\n",
    "pop.crs={'init': 'epsg:4326'}"
   ]
  },
  {
   "cell_type": "code",
   "execution_count": null,
   "metadata": {},
   "outputs": [],
   "source": [
    "rwi = pd.read_csv('data/satellite/wealth.csv')\n",
    "rwi = gpd.GeoDataFrame(rwi, \n",
    "                       geometry=gpd.points_from_xy(rwi['longitude'], rwi['latitude']))\n",
    "rwi.crs={'init': 'epsg:4326'}"
   ]
  },
  {
   "cell_type": "code",
   "execution_count": null,
   "metadata": {},
   "outputs": [],
   "source": [
    "sample = pop.sample(10000)\n",
    "sample = gpd.sjoin(sample, nation, op='within')"
   ]
  },
  {
   "cell_type": "code",
   "execution_count": null,
   "metadata": {},
   "outputs": [],
   "source": [
    "ax = nation.plot(color='lightgrey', figsize=(10, 10))\n",
    "\n",
    "ax = rwi.plot(markersize=1, marker='s', column=rwi['rwi'], cmap='magma', \n",
    "         legend=True, legend_kwds={'shrink':0.5, 'label':'Relative Wealth Index (RWI)'}, \n",
    "         ax=ax)\n",
    "\n",
    "ax.set_title('Wealth Estimates', fontsize='xx-large')\n",
    "\n",
    "ax.get_xaxis().set_visible(False)\n",
    "ax.get_yaxis().set_visible(False)\n",
    "\n",
    "ax.axis('off')\n",
    "\n",
    "plt.show()"
   ]
  },
  {
   "cell_type": "code",
   "execution_count": null,
   "metadata": {},
   "outputs": [],
   "source": [
    "ax = nation.plot(color='lightgrey', figsize=(10, 10))\n",
    "\n",
    "ax = sample.plot(ax=ax, color='mediumblue', \n",
    "                 markersize=sample['Population']/10000)\n",
    "\n",
    "ax.set_title('Population Density Estimates', fontsize='xx-large')\n",
    "\n",
    "ax.get_xaxis().set_visible(False)\n",
    "ax.get_yaxis().set_visible(False)\n",
    "\n",
    "ax.axis('off')\n",
    "\n",
    "plt.show()"
   ]
  },
  {
   "cell_type": "code",
   "execution_count": null,
   "metadata": {},
   "outputs": [],
   "source": [
    "def ckdnearest(gdA, gdB):\n",
    "\n",
    "    nA = np.array(list(gdA.geometry.apply(lambda x: (x.x, x.y))))\n",
    "    nB = np.array(list(gdB.geometry.apply(lambda x: (x.x, x.y))))\n",
    "    btree = cKDTree(nB)\n",
    "    dist, idx = btree.query(nA, k=1)\n",
    "    gdB_nearest = gdB.iloc[idx].drop(columns=\"geometry\").reset_index(drop=True)\n",
    "    gdf = pd.concat(\n",
    "        [\n",
    "            gdA.reset_index(drop=True),\n",
    "            gdB_nearest,\n",
    "            pd.Series(dist, name='dist')\n",
    "        ], \n",
    "        axis=1)\n",
    "\n",
    "    return gdf"
   ]
  },
  {
   "cell_type": "code",
   "execution_count": null,
   "metadata": {},
   "outputs": [],
   "source": [
    "overlay = ckdnearest(pop, rwi)\n",
    "overlay.columns = ['longitude_pop', 'latitude_pop', 'pop', 'geometry', \n",
    "                   'latitude_rwi', 'longitude_rwi', 'rwi', 'error', 'dist']\n",
    "overlay = overlay.groupby(['latitude_rwi', 'longitude_rwi', 'rwi'], as_index=False)\\\n",
    "    .agg('sum')\n",
    "overlay = overlay[['latitude_rwi', 'longitude_rwi', 'pop', 'rwi']]\\\n",
    "    .rename({'pop':'pop_weight'}, axis=1)\n",
    "overlay['weighted_rwi'] = overlay['pop_weight']*overlay['rwi']\n",
    "overlay = gpd.GeoDataFrame(overlay, geometry=gpd.points_from_xy(overlay['longitude_rwi'], \n",
    "                                                                overlay['latitude_rwi']))\n",
    "\n",
    "overlay.crs={'init': 'epsg:4326'}"
   ]
  },
  {
   "cell_type": "code",
   "execution_count": null,
   "metadata": {},
   "outputs": [],
   "source": [
    "maps = {}\n",
    "for name, numberkey, df in [('cantons', 'canton', cantons)]:\n",
    "    \n",
    "    grouped = gpd.sjoin(overlay, df, op='within', how='right')\n",
    "    grouped = grouped.groupby(numberkey, as_index=False).agg('sum')\n",
    "    grouped['rwi'] = grouped['weighted_rwi']/grouped['pop_weight']\n",
    "    grouped = grouped[[numberkey, 'rwi', 'pop_weight']]\\\n",
    "        .rename({'pop_weight':'pop'}, axis=1)\n",
    "    grouped = df[[numberkey, 'geometry']].merge(grouped, how='left', \n",
    "                                                         on=numberkey)\n",
    "    \n",
    "    nulls = grouped[pd.isnull(grouped['rwi'])].copy()\n",
    "    nonnulls = grouped[~pd.isnull(grouped['rwi'])].copy()\n",
    "    \n",
    "    imputed = []\n",
    "    for index, row in nulls.iterrows():  \n",
    "        neighbors = nonnulls[nonnulls.geometry.touches(row['geometry'])]\n",
    "        imputed.append(neighbors['rwi'].mean())\n",
    "    nulls['rwi'] = imputed\n",
    "    \n",
    "    grouped = pd.concat([nulls, nonnulls])\n",
    "    maps[name] = grouped\n",
    "\n",
    "    "
   ]
  },
  {
   "cell_type": "code",
   "execution_count": null,
   "metadata": {},
   "outputs": [],
   "source": [
    "fig, ax = plt.subplots(1, figsize=(15, 15))\n",
    "\n",
    "nation.plot(ax=ax, color='lightgrey')\n",
    "ax.axis('off')\n",
    "    \n",
    "maps['cantons'].plot(ax=ax, column='rwi', cmap='magma', legend=True, \n",
    "                       legend_kwds={'shrink':0.5, 'label':'Relative Wealth Index (RWI)'})\n",
    "\n",
    "ax.set_title('Wealth by Canton', fontsize='xx-large')\n",
    "\n",
    "plt.show()"
   ]
  },
  {
   "cell_type": "code",
   "execution_count": null,
   "metadata": {},
   "outputs": [],
   "source": []
  }
 ],
 "metadata": {
  "kernelspec": {
   "display_name": "Python 3",
   "language": "python",
   "name": "python3"
  },
  "language_info": {
   "codemirror_mode": {
    "name": "ipython",
    "version": 3
   },
   "file_extension": ".py",
   "mimetype": "text/x-python",
   "name": "python",
   "nbconvert_exporter": "python",
   "pygments_lexer": "ipython3",
   "version": "3.8.3"
  }
 },
 "nbformat": 4,
 "nbformat_minor": 4
}
